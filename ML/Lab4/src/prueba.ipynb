{
 "cells": [
  {
   "cell_type": "code",
   "execution_count": 7,
   "metadata": {},
   "outputs": [
    {
     "data": {
      "text/plain": [
       "(array(['Daffodil', 'Daffodil', 'Daffodil', 'Daffodil', 'Daffodil',\n",
       "        'Daffodil', 'Daffodil', 'Daffodil', 'Daffodil', 'Daffodil',\n",
       "        'Daffodil', 'Daffodil', 'Daffodil', 'Daffodil', 'Daffodil',\n",
       "        'Daffodil', 'Daffodil', 'Daffodil', 'Daffodil', 'Daffodil'],\n",
       "       dtype='<U11'),\n",
       " array(['Crocus', 'Crocus', 'Crocus', 'Crocus', 'Crocus', 'Crocus',\n",
       "        'Crocus', 'Crocus', 'Crocus', 'Crocus', 'Crocus', 'Crocus',\n",
       "        'Crocus', 'Crocus', 'Crocus', 'Crocus', 'Crocus', 'Crocus',\n",
       "        'Crocus', 'Crocus'], dtype='<U11'))"
      ]
     },
     "execution_count": 7,
     "metadata": {},
     "output_type": "execute_result"
    }
   ],
   "source": [
    "# Load Lab4/data/datasplits.mat\n",
    "\n",
    "\n",
    "import numpy as np\n",
    "import scipy.io\n",
    "\n",
    "\n",
    "# Define the labels based on the order provided\n",
    "# Each class has 80 images, so we repeat each class label 80 times\n",
    "class_names = ['Daffodil', 'Snowdrop', 'Lily_Valley', 'Bluebell', 'Crocus']\n",
    "num_images_per_class = 80\n",
    "\n",
    "# Create the labels array\n",
    "labels = np.array([[class_name] * num_images_per_class for class_name in class_names]).flatten()\n",
    "\n",
    "# Display the labels array\n",
    "labels[:20], labels[-20:]  # Show first and last 20 labels for verification\n",
    "\n"
   ]
  },
  {
   "cell_type": "code",
   "execution_count": null,
   "metadata": {},
   "outputs": [],
   "source": []
  }
 ],
 "metadata": {
  "kernelspec": {
   "display_name": "tensorflow",
   "language": "python",
   "name": "python3"
  },
  "language_info": {
   "codemirror_mode": {
    "name": "ipython",
    "version": 3
   },
   "file_extension": ".py",
   "mimetype": "text/x-python",
   "name": "python",
   "nbconvert_exporter": "python",
   "pygments_lexer": "ipython3",
   "version": "3.8.15"
  }
 },
 "nbformat": 4,
 "nbformat_minor": 2
}
